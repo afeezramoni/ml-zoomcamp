{
 "cells": [
  {
   "cell_type": "code",
   "execution_count": 2,
   "id": "c223ab5a-a920-4192-87c2-7910c6304a79",
   "metadata": {},
   "outputs": [],
   "source": [
    "import numpy as np"
   ]
  },
  {
   "cell_type": "markdown",
   "id": "162b9c90-97aa-414b-a02e-33daefb08f35",
   "metadata": {},
   "source": [
    "# Creating Arrays"
   ]
  },
  {
   "cell_type": "code",
   "execution_count": 3,
   "id": "2176d18a-990e-4119-8703-7c75b059fe30",
   "metadata": {},
   "outputs": [
    {
     "data": {
      "text/plain": [
       "array([0., 0., 0., 0., 0.])"
      ]
     },
     "execution_count": 3,
     "metadata": {},
     "output_type": "execute_result"
    }
   ],
   "source": [
    "np.zeros(5)"
   ]
  },
  {
   "cell_type": "code",
   "execution_count": 4,
   "id": "dcb76eea-30c3-4f18-b6a2-299a90faa94f",
   "metadata": {},
   "outputs": [
    {
     "data": {
      "text/plain": [
       "array([1., 1., 1., 1., 1.])"
      ]
     },
     "execution_count": 4,
     "metadata": {},
     "output_type": "execute_result"
    }
   ],
   "source": [
    "np.ones(5)"
   ]
  },
  {
   "cell_type": "code",
   "execution_count": 5,
   "id": "d60094b0-58e5-47ed-b686-b562d621dca7",
   "metadata": {},
   "outputs": [
    {
     "data": {
      "text/plain": [
       "array([2.5, 2.5, 2.5, 2.5, 2.5, 2.5, 2.5, 2.5, 2.5, 2.5])"
      ]
     },
     "execution_count": 5,
     "metadata": {},
     "output_type": "execute_result"
    }
   ],
   "source": [
    "np.full(10,2.5)"
   ]
  },
  {
   "cell_type": "code",
   "execution_count": 6,
   "id": "4e1580c3-486c-4a2f-b98e-97956c27e9e3",
   "metadata": {},
   "outputs": [
    {
     "data": {
      "text/plain": [
       "array([1, 2, 4, 6, 8, 4, 7])"
      ]
     },
     "execution_count": 6,
     "metadata": {},
     "output_type": "execute_result"
    }
   ],
   "source": [
    "a = np.array([1,2,4,6,8,4,7]) # passing a list to numpy\n",
    "a"
   ]
  },
  {
   "cell_type": "code",
   "execution_count": 7,
   "id": "5425beb0-5a9a-4317-9c75-38507f8951f7",
   "metadata": {},
   "outputs": [
    {
     "name": "stdout",
     "output_type": "stream",
     "text": [
      "4\n"
     ]
    }
   ],
   "source": [
    "print(a[2]) # accessing the 3rd element"
   ]
  },
  {
   "cell_type": "code",
   "execution_count": 8,
   "id": "64dd698b-c38a-46b2-93a2-371d39dfe892",
   "metadata": {},
   "outputs": [
    {
     "data": {
      "text/plain": [
       "array([0, 1, 2, 3, 4, 5, 6, 7, 8, 9])"
      ]
     },
     "execution_count": 8,
     "metadata": {},
     "output_type": "execute_result"
    }
   ],
   "source": [
    "np.arange(10)"
   ]
  },
  {
   "cell_type": "raw",
   "id": "69133eef-e553-43b6-8a7f-a8cea11199fa",
   "metadata": {},
   "source": [
    "np.arange(3,10)"
   ]
  },
  {
   "cell_type": "code",
   "execution_count": 9,
   "id": "d02c17cc-4786-424b-986c-fc639478f975",
   "metadata": {},
   "outputs": [
    {
     "data": {
      "text/plain": [
       "array([1. , 1.2, 1.4, 1.6, 1.8, 2. , 2.2, 2.4, 2.6, 2.8, 3. , 3.2, 3.4,\n",
       "       3.6, 3.8, 4. , 4.2, 4.4, 4.6, 4.8, 5. , 5.2, 5.4, 5.6, 5.8])"
      ]
     },
     "execution_count": 9,
     "metadata": {},
     "output_type": "execute_result"
    }
   ],
   "source": [
    "np.arange(1,6,0.2)"
   ]
  },
  {
   "cell_type": "code",
   "execution_count": 10,
   "id": "ce924a78-206d-4a04-859a-51cfe04db34f",
   "metadata": {},
   "outputs": [
    {
     "data": {
      "text/plain": [
       "array([ 1.,  2.,  3.,  4.,  5.,  6.,  7.,  8.,  9., 10.])"
      ]
     },
     "execution_count": 10,
     "metadata": {},
     "output_type": "execute_result"
    }
   ],
   "source": [
    "np.linspace(1,10,10)"
   ]
  },
  {
   "cell_type": "markdown",
   "id": "450de5b3-649c-4eeb-8567-f7d9db38299c",
   "metadata": {},
   "source": [
    "# Multi-dimension Arrays"
   ]
  },
  {
   "cell_type": "code",
   "execution_count": 11,
   "id": "62166c08-dc79-478e-b6b9-66c333d565ea",
   "metadata": {},
   "outputs": [
    {
     "data": {
      "text/plain": [
       "array([[0., 0.],\n",
       "       [0., 0.],\n",
       "       [0., 0.],\n",
       "       [0., 0.],\n",
       "       [0., 0.]])"
      ]
     },
     "execution_count": 11,
     "metadata": {},
     "output_type": "execute_result"
    }
   ],
   "source": [
    "np.zeros((5,2))"
   ]
  },
  {
   "cell_type": "code",
   "execution_count": 12,
   "id": "9232f02b-03f6-4d0f-aee1-4c5e4c6d9e7e",
   "metadata": {},
   "outputs": [],
   "source": [
    "n = np.array([\n",
    "    [1,2,3],\n",
    "    [4,5,6],\n",
    "    [7,8,9]\n",
    "])"
   ]
  },
  {
   "cell_type": "code",
   "execution_count": 13,
   "id": "496f5d69-4a76-4743-b9fa-6f649943835d",
   "metadata": {},
   "outputs": [
    {
     "name": "stdout",
     "output_type": "stream",
     "text": [
      "3\n"
     ]
    }
   ],
   "source": [
    "print(n[0][2]) # Or print(n[0,2])"
   ]
  },
  {
   "cell_type": "code",
   "execution_count": 14,
   "id": "3eaf78e1-aa20-40bf-8357-b5bdcd40d6d5",
   "metadata": {},
   "outputs": [],
   "source": [
    "n[0, 2] = 20 # Update a roww element"
   ]
  },
  {
   "cell_type": "code",
   "execution_count": 15,
   "id": "3e0dffd6-0802-4c7b-9498-59bd49dbc2c1",
   "metadata": {},
   "outputs": [
    {
     "data": {
      "text/plain": [
       "array([[ 1,  2, 20],\n",
       "       [ 4,  5,  6],\n",
       "       [ 7,  8,  9]])"
      ]
     },
     "execution_count": 15,
     "metadata": {},
     "output_type": "execute_result"
    }
   ],
   "source": [
    "n"
   ]
  },
  {
   "cell_type": "code",
   "execution_count": 40,
   "id": "1b20c7fc-3795-4e2e-ab05-4256f21fc0a0",
   "metadata": {},
   "outputs": [
    {
     "name": "stdout",
     "output_type": "stream",
     "text": [
      "[20 13  9]\n"
     ]
    }
   ],
   "source": [
    "print(n[:,2]) # Or  Print the 3rd column"
   ]
  },
  {
   "cell_type": "code",
   "execution_count": 41,
   "id": "7d7caee6-8b0e-477c-b1e7-8403381228f4",
   "metadata": {},
   "outputs": [
    {
     "name": "stdout",
     "output_type": "stream",
     "text": [
      "[7 8 9]\n"
     ]
    }
   ],
   "source": [
    "print(n[2]) # Or  Print the 3rd row"
   ]
  },
  {
   "cell_type": "code",
   "execution_count": 42,
   "id": "aac95c15-0c04-4c17-a090-e49c2ef42315",
   "metadata": {},
   "outputs": [
    {
     "data": {
      "text/plain": [
       "array([[ 1,  2, 20],\n",
       "       [11, 12, 13],\n",
       "       [ 7,  8,  9]])"
      ]
     },
     "execution_count": 42,
     "metadata": {},
     "output_type": "execute_result"
    }
   ],
   "source": [
    "n[1] = [11, 12, 13] # Update the 2nd row\n",
    "n"
   ]
  },
  {
   "cell_type": "code",
   "execution_count": 43,
   "id": "eacab54a-5a2f-4609-8347-f35383f062f5",
   "metadata": {},
   "outputs": [
    {
     "data": {
      "text/plain": [
       "array([[ 1, 11,  7],\n",
       "       [ 2, 12,  8],\n",
       "       [20, 13,  9]])"
      ]
     },
     "execution_count": 43,
     "metadata": {},
     "output_type": "execute_result"
    }
   ],
   "source": [
    "n.transpose()"
   ]
  },
  {
   "cell_type": "markdown",
   "id": "ed792d26-c90c-4b2a-a486-dfb2fc9e5444",
   "metadata": {},
   "source": [
    "# Randomly generated arrays"
   ]
  },
  {
   "cell_type": "code",
   "execution_count": 19,
   "id": "e02a9571-6ccb-4dbd-99dc-dea2681e7efb",
   "metadata": {},
   "outputs": [
    {
     "data": {
      "text/plain": [
       "array([[0.52825934, 0.08434982],\n",
       "       [0.54383289, 0.86614177],\n",
       "       [0.1290484 , 0.71579708],\n",
       "       [0.1006333 , 0.34719729],\n",
       "       [0.19118675, 0.16819674]])"
      ]
     },
     "execution_count": 19,
     "metadata": {},
     "output_type": "execute_result"
    }
   ],
   "source": [
    "np.random.rand(5,2)"
   ]
  },
  {
   "cell_type": "code",
   "execution_count": 20,
   "id": "50772d70-7d00-48c9-945e-b3b91aa755c1",
   "metadata": {},
   "outputs": [
    {
     "data": {
      "text/plain": [
       "array([[0.4359949 , 0.02592623],\n",
       "       [0.54966248, 0.43532239],\n",
       "       [0.4203678 , 0.33033482],\n",
       "       [0.20464863, 0.61927097],\n",
       "       [0.29965467, 0.26682728]])"
      ]
     },
     "execution_count": 20,
     "metadata": {},
     "output_type": "execute_result"
    }
   ],
   "source": [
    "np.random.seed(2)\n",
    "np.random.rand(5,2)"
   ]
  },
  {
   "cell_type": "code",
   "execution_count": 21,
   "id": "2aa37598-3c70-4fd3-ab2b-a1f79babfcf5",
   "metadata": {},
   "outputs": [
    {
     "data": {
      "text/plain": [
       "array([[ 0.55145404,  2.29220801],\n",
       "       [ 0.04153939, -1.11792545],\n",
       "       [ 0.53905832, -0.5961597 ],\n",
       "       [-0.0191305 ,  1.17500122],\n",
       "       [-0.74787095,  0.00902525]])"
      ]
     },
     "execution_count": 21,
     "metadata": {},
     "output_type": "execute_result"
    }
   ],
   "source": [
    "np.random.randn(5,2) # Random normal distribution"
   ]
  },
  {
   "cell_type": "code",
   "execution_count": 22,
   "id": "68f3fc0d-984f-4bde-af71-4e9d6932ae10",
   "metadata": {},
   "outputs": [
    {
     "data": {
      "text/plain": [
       "array([[42.81223276,  9.65309157],\n",
       "       [12.71599717, 59.6745309 ],\n",
       "       [22.60120006, 10.69456843],\n",
       "       [22.03062071, 34.9826285 ],\n",
       "       [46.77874846, 20.17432263]])"
      ]
     },
     "execution_count": 22,
     "metadata": {},
     "output_type": "execute_result"
    }
   ],
   "source": [
    "100*np.random.rand(5,2) # Random number between 0 and 100"
   ]
  },
  {
   "cell_type": "code",
   "execution_count": 23,
   "id": "6ae46709-a365-4e23-9c6b-4ac728ab6056",
   "metadata": {},
   "outputs": [
    {
     "data": {
      "text/plain": [
       "array([[15,  8],\n",
       "       [17, 22],\n",
       "       [73, 57],\n",
       "       [90, 62],\n",
       "       [83, 96]])"
      ]
     },
     "execution_count": 23,
     "metadata": {},
     "output_type": "execute_result"
    }
   ],
   "source": [
    "np.random.randint(low=0, high=100, size=(5,2)) # @-dimensional integer array between low and high numbers"
   ]
  },
  {
   "cell_type": "markdown",
   "id": "0d627ec4-de5f-4515-a951-3f92bfb7164e",
   "metadata": {},
   "source": [
    "# Element-wise operations"
   ]
  },
  {
   "cell_type": "code",
   "execution_count": 24,
   "id": "95ce075a-8233-4ec6-8757-31b237fc02a0",
   "metadata": {},
   "outputs": [
    {
     "data": {
      "text/plain": [
       "array([0, 1, 2, 3, 4])"
      ]
     },
     "execution_count": 24,
     "metadata": {},
     "output_type": "execute_result"
    }
   ],
   "source": [
    "a = np.arange(5)\n",
    "a"
   ]
  },
  {
   "cell_type": "code",
   "execution_count": 25,
   "id": "615a92f9-0c47-4ea0-a3b1-c6451c3e36ae",
   "metadata": {},
   "outputs": [
    {
     "data": {
      "text/plain": [
       "array([1, 2, 3, 4, 5])"
      ]
     },
     "execution_count": 25,
     "metadata": {},
     "output_type": "execute_result"
    }
   ],
   "source": [
    "a + 1 # Numpy makes this easy, otherwise we will loop the list"
   ]
  },
  {
   "cell_type": "code",
   "execution_count": 26,
   "id": "06af8541-24b9-45c0-9a6d-e15e1a7796af",
   "metadata": {},
   "outputs": [
    {
     "data": {
      "text/plain": [
       "array([0, 2, 4, 6, 8])"
      ]
     },
     "execution_count": 26,
     "metadata": {},
     "output_type": "execute_result"
    }
   ],
   "source": [
    "a * 2 # Same comment as above"
   ]
  },
  {
   "cell_type": "code",
   "execution_count": 27,
   "id": "1e12b0db-6e84-4355-98b2-e839865ec9ca",
   "metadata": {},
   "outputs": [
    {
     "data": {
      "text/plain": [
       "array([0. , 0.1, 0.2, 0.3, 0.4])"
      ]
     },
     "execution_count": 27,
     "metadata": {},
     "output_type": "execute_result"
    }
   ],
   "source": [
    "a/10"
   ]
  },
  {
   "cell_type": "code",
   "execution_count": 28,
   "id": "1659dfd2-d299-4311-80fb-ed476b633e5e",
   "metadata": {},
   "outputs": [
    {
     "data": {
      "text/plain": [
       "array([1.  , 1.44, 1.96, 2.56, 3.24])"
      ]
     },
     "execution_count": 28,
     "metadata": {},
     "output_type": "execute_result"
    }
   ],
   "source": [
    "b = (10 + (a * 2)) ** 2/100\n",
    "b"
   ]
  },
  {
   "cell_type": "code",
   "execution_count": 29,
   "id": "cad217ff-5ab7-41b6-afdb-f8b9c4d1196d",
   "metadata": {},
   "outputs": [
    {
     "data": {
      "text/plain": [
       "array([1.  , 2.44, 3.96, 5.56, 7.24])"
      ]
     },
     "execution_count": 29,
     "metadata": {},
     "output_type": "execute_result"
    }
   ],
   "source": [
    "a + b"
   ]
  },
  {
   "cell_type": "markdown",
   "id": "d403fe1a-f11e-4f74-b964-237adf91e48a",
   "metadata": {},
   "source": [
    "# Comparison Operations"
   ]
  },
  {
   "cell_type": "code",
   "execution_count": 30,
   "id": "82684beb-5baa-489e-abab-aa3b85bb5126",
   "metadata": {},
   "outputs": [
    {
     "data": {
      "text/plain": [
       "array([False, False,  True,  True,  True])"
      ]
     },
     "execution_count": 30,
     "metadata": {},
     "output_type": "execute_result"
    }
   ],
   "source": [
    "a >= 2"
   ]
  },
  {
   "cell_type": "code",
   "execution_count": 31,
   "id": "7778916a-9cb2-4c83-8171-48bdef87cb7e",
   "metadata": {},
   "outputs": [
    {
     "data": {
      "text/plain": [
       "array([1.  , 1.44, 1.96, 2.56, 3.24])"
      ]
     },
     "execution_count": 31,
     "metadata": {},
     "output_type": "execute_result"
    }
   ],
   "source": [
    "b"
   ]
  },
  {
   "cell_type": "code",
   "execution_count": 32,
   "id": "a61fd9e4-7dca-49df-859f-71b0aea58cf6",
   "metadata": {},
   "outputs": [
    {
     "data": {
      "text/plain": [
       "array([False, False,  True,  True,  True])"
      ]
     },
     "execution_count": 32,
     "metadata": {},
     "output_type": "execute_result"
    }
   ],
   "source": [
    "a > b"
   ]
  },
  {
   "cell_type": "code",
   "execution_count": 33,
   "id": "04b612ad-e484-4b96-be49-0d10e8292e9b",
   "metadata": {},
   "outputs": [
    {
     "data": {
      "text/plain": [
       "array([2, 3, 4])"
      ]
     },
     "execution_count": 33,
     "metadata": {},
     "output_type": "execute_result"
    }
   ],
   "source": [
    "a[a > b] # returns all elements of array, a for which the condition is true"
   ]
  },
  {
   "cell_type": "markdown",
   "id": "43f9c020-62e5-4774-b090-5602bfd5228c",
   "metadata": {},
   "source": [
    "# Summarising Operations"
   ]
  },
  {
   "cell_type": "code",
   "execution_count": 34,
   "id": "eb2e736b-d151-4c01-a4a8-5edf9007de6e",
   "metadata": {},
   "outputs": [
    {
     "name": "stdout",
     "output_type": "stream",
     "text": [
      "0\n",
      "4\n",
      "2.0\n",
      "1.4142135623730951\n"
     ]
    }
   ],
   "source": [
    "print(a.min())\n",
    "print(a.max())\n",
    "print(a.mean())\n",
    "print(a.std())"
   ]
  },
  {
   "cell_type": "code",
   "execution_count": 35,
   "id": "7025dda6-ab85-4a49-b89f-622b02c35af3",
   "metadata": {},
   "outputs": [
    {
     "name": "stdout",
     "output_type": "stream",
     "text": [
      "20\n"
     ]
    }
   ],
   "source": [
    "print(n.max()) # Print the maximum element of a a-dimension array above"
   ]
  },
  {
   "cell_type": "code",
   "execution_count": 36,
   "id": "28b0339c-18c2-4447-acb7-0dae671c53ef",
   "metadata": {},
   "outputs": [
    {
     "name": "stdout",
     "output_type": "stream",
     "text": [
      "5.452375176171243\n"
     ]
    }
   ],
   "source": [
    "print(n.std()) # Print the standard deviation of a a-dimension array above"
   ]
  },
  {
   "cell_type": "code",
   "execution_count": null,
   "id": "78cdb0b8-b864-46e6-9b2b-c54451ddb289",
   "metadata": {},
   "outputs": [],
   "source": []
  }
 ],
 "metadata": {
  "kernelspec": {
   "display_name": "Python 3 (ipykernel)",
   "language": "python",
   "name": "python3"
  },
  "language_info": {
   "codemirror_mode": {
    "name": "ipython",
    "version": 3
   },
   "file_extension": ".py",
   "mimetype": "text/x-python",
   "name": "python",
   "nbconvert_exporter": "python",
   "pygments_lexer": "ipython3",
   "version": "3.12.1"
  }
 },
 "nbformat": 4,
 "nbformat_minor": 5
}
