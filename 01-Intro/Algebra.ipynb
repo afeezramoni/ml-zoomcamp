{
 "cells": [
  {
   "cell_type": "markdown",
   "id": "a6bc9521-7ed9-44a0-883f-4a8c37b95021",
   "metadata": {},
   "source": [
    "# Vector Operation"
   ]
  },
  {
   "cell_type": "code",
   "execution_count": 2,
   "id": "91863a47-8a78-4393-8aad-97c23038b643",
   "metadata": {},
   "outputs": [],
   "source": [
    "import numpy as np"
   ]
  },
  {
   "cell_type": "code",
   "execution_count": 12,
   "id": "ad09db9c-5c5b-4ff7-af68-3f9c13d1c5f1",
   "metadata": {},
   "outputs": [
    {
     "data": {
      "text/plain": [
       "array([2, 4, 5, 6])"
      ]
     },
     "execution_count": 12,
     "metadata": {},
     "output_type": "execute_result"
    }
   ],
   "source": [
    "u = np.array([2, 4, 5, 6])\n",
    "u"
   ]
  },
  {
   "cell_type": "code",
   "execution_count": 33,
   "id": "607eb1f9-9706-4312-9e87-bf4e51ff45e1",
   "metadata": {},
   "outputs": [
    {
     "data": {
      "text/plain": [
       "array([1, 0, 0, 2])"
      ]
     },
     "execution_count": 33,
     "metadata": {},
     "output_type": "execute_result"
    }
   ],
   "source": [
    "v = np.array([1, 0, 0, 2])\n",
    "v"
   ]
  },
  {
   "cell_type": "code",
   "execution_count": 6,
   "id": "9552e507-a5fe-466d-9b9a-2edaacd1993f",
   "metadata": {},
   "outputs": [
    {
     "name": "stdout",
     "output_type": "stream",
     "text": [
      "[3 4 5 8]\n"
     ]
    }
   ],
   "source": [
    "print (u + v)"
   ]
  },
  {
   "cell_type": "markdown",
   "id": "842a4ccf-b7e7-41c5-8533-65b33bc9e08e",
   "metadata": {},
   "source": [
    "# Vector Multiplication (Dot Multiplication)"
   ]
  },
  {
   "cell_type": "code",
   "execution_count": 8,
   "id": "ceced90d-6bf4-4f39-9a4c-ead81f521303",
   "metadata": {},
   "outputs": [
    {
     "name": "stdout",
     "output_type": "stream",
     "text": [
      "[ 2  0  0 12]\n"
     ]
    }
   ],
   "source": [
    "print (u * v) "
   ]
  },
  {
   "cell_type": "code",
   "execution_count": 10,
   "id": "34415566-2119-40e8-a347-e015e2181580",
   "metadata": {},
   "outputs": [
    {
     "data": {
      "text/plain": [
       "array([2, 4, 5, 6])"
      ]
     },
     "execution_count": 10,
     "metadata": {},
     "output_type": "execute_result"
    }
   ],
   "source": [
    "u.transpose()"
   ]
  },
  {
   "cell_type": "code",
   "execution_count": 54,
   "id": "46f93ad9-79af-4853-bb01-539edebed8f1",
   "metadata": {},
   "outputs": [],
   "source": [
    "def vector_vector_multiply(u, v):\n",
    "    assert u.shape[0] == v.shape[0]\n",
    "\n",
    "    n= u.shape[0]\n",
    "    result = 0.0\n",
    "\n",
    "    for i in range(n):\n",
    "        result = result + u[i] * v[i]\n",
    "    return result"
   ]
  },
  {
   "cell_type": "code",
   "execution_count": 14,
   "id": "f58c2879-23d0-4031-82f3-0a9db7345650",
   "metadata": {},
   "outputs": [
    {
     "name": "stdout",
     "output_type": "stream",
     "text": [
      "14.0\n"
     ]
    }
   ],
   "source": [
    "print(vecto_Vector_multiply(u, v))"
   ]
  },
  {
   "cell_type": "code",
   "execution_count": 17,
   "id": "3e21f1c4-e8b8-44fb-9bac-ec4f4aa1f083",
   "metadata": {},
   "outputs": [
    {
     "name": "stdout",
     "output_type": "stream",
     "text": [
      "14\n"
     ]
    }
   ],
   "source": [
    "print(u.dot(v)) # The Numpy dot operator implementation of the above"
   ]
  },
  {
   "cell_type": "code",
   "execution_count": 26,
   "id": "c108f115-d08e-4faf-8262-cc620ad9a7ec",
   "metadata": {},
   "outputs": [
    {
     "name": "stdout",
     "output_type": "stream",
     "text": [
      "4\n"
     ]
    }
   ],
   "source": [
    "print(U.shape[1])"
   ]
  },
  {
   "cell_type": "markdown",
   "id": "b94fe7a2-ca78-44f0-8604-d38435018b26",
   "metadata": {},
   "source": [
    "# Matrix - Vector Multiplication"
   ]
  },
  {
   "cell_type": "code",
   "execution_count": 28,
   "id": "fd81203c-82f6-43ff-9f88-d1d03d9f9bad",
   "metadata": {},
   "outputs": [
    {
     "data": {
      "text/plain": [
       "array([[2, 4, 5, 6],\n",
       "       [1, 2, 1, 2],\n",
       "       [3, 1, 2, 1]])"
      ]
     },
     "execution_count": 28,
     "metadata": {},
     "output_type": "execute_result"
    }
   ],
   "source": [
    "U = np.array([\n",
    "    [2, 4, 5, 6],\n",
    "    [1, 2, 1, 2],\n",
    "    [3, 1, 2, 1]\n",
    "])\n",
    "U"
   ]
  },
  {
   "cell_type": "code",
   "execution_count": 55,
   "id": "894a42b8-e472-4671-b2b4-14fb21827929",
   "metadata": {},
   "outputs": [],
   "source": [
    "def matrix_vector_multiply(U,v):\n",
    "    assert U.shape[1] == v.shape[0] # Confirm that the number of rows in matrix matches the number of column in the vector\n",
    "\n",
    "    num_rows = U.shape[0]\n",
    "    result = np.zeros(num_rows)\n",
    "\n",
    "    for i in range(num_rows):\n",
    "        result[i] = vector_vector_multiply(U[i], v)\n",
    "        print(\"Iteration \", i)\n",
    "    return result\n"
   ]
  },
  {
   "cell_type": "code",
   "execution_count": 56,
   "id": "0598545f-4f2c-4204-826b-73081acf24e6",
   "metadata": {},
   "outputs": [
    {
     "name": "stdout",
     "output_type": "stream",
     "text": [
      "Iteration  0\n",
      "Iteration  1\n",
      "Iteration  2\n"
     ]
    },
    {
     "data": {
      "text/plain": [
       "array([14.,  5.,  5.])"
      ]
     },
     "execution_count": 56,
     "metadata": {},
     "output_type": "execute_result"
    }
   ],
   "source": [
    "matrix_vector_multiply(U,v)"
   ]
  },
  {
   "cell_type": "code",
   "execution_count": 57,
   "id": "1e956a5d-de4e-483a-8cfb-53fa998fcdb2",
   "metadata": {},
   "outputs": [
    {
     "data": {
      "text/plain": [
       "array([14,  5,  5])"
      ]
     },
     "execution_count": 57,
     "metadata": {},
     "output_type": "execute_result"
    }
   ],
   "source": [
    "U.dot(v) # Numpy does the same with the dot operator"
   ]
  },
  {
   "cell_type": "markdown",
   "id": "33be5c2b-774a-4c3b-b6e7-5380b7144bb5",
   "metadata": {},
   "source": [
    "# Matrix-Matrix Multiplication"
   ]
  },
  {
   "cell_type": "code",
   "execution_count": 58,
   "id": "8a245205-05dc-4656-9412-176c76f7ab06",
   "metadata": {},
   "outputs": [],
   "source": [
    "V = np.array([\n",
    "    [1, 1, 2],\n",
    "    [0, 0.5, 1],\n",
    "    [0, 2, 1],\n",
    "    [2, 1, 0]\n",
    "])"
   ]
  },
  {
   "cell_type": "code",
   "execution_count": 59,
   "id": "24808e3b-471f-444d-9b01-582a95e50b54",
   "metadata": {},
   "outputs": [
    {
     "name": "stdout",
     "output_type": "stream",
     "text": [
      "Iteration  0\n",
      "Iteration  1\n",
      "Iteration  2\n",
      "Iteration  0\n",
      "Iteration  1\n",
      "Iteration  2\n",
      "Iteration  0\n",
      "Iteration  1\n",
      "Iteration  2\n"
     ]
    },
    {
     "data": {
      "text/plain": [
       "array([[14. , 20. , 13. ],\n",
       "       [ 5. ,  6. ,  5. ],\n",
       "       [ 5. ,  8.5,  9. ]])"
      ]
     },
     "execution_count": 59,
     "metadata": {},
     "output_type": "execute_result"
    }
   ],
   "source": [
    "def matrix_matrix_multiply(U, V):\n",
    "    assert U.shape[1] == V.shape[0]\n",
    "\n",
    "    num_rows = U.shape[0]\n",
    "    num_cols = V.shape[1]\n",
    "\n",
    "    result = np.zeros((num_rows,num_cols))\n",
    "\n",
    "    for i in range(num_cols):\n",
    "        vi = V[:, i]\n",
    "        Uvi = matrix_vector_multiply(U, vi)\n",
    "        result[:, i] = Uvi\n",
    "    return result\n",
    "\n",
    "matrix_matrix_multiply(U, V)\n",
    "        "
   ]
  },
  {
   "cell_type": "code",
   "execution_count": 60,
   "id": "3ab30f41-801b-4859-b3d9-bb8d33df8955",
   "metadata": {},
   "outputs": [
    {
     "data": {
      "text/plain": [
       "array([[14. , 20. , 13. ],\n",
       "       [ 5. ,  6. ,  5. ],\n",
       "       [ 5. ,  8.5,  9. ]])"
      ]
     },
     "execution_count": 60,
     "metadata": {},
     "output_type": "execute_result"
    }
   ],
   "source": [
    "U.dot(V) # The Numpy dot operator implementation of the above"
   ]
  },
  {
   "cell_type": "markdown",
   "id": "ea0ad408-25f1-489d-b093-277dbc6224c3",
   "metadata": {},
   "source": [
    "# Identity Matrix"
   ]
  },
  {
   "cell_type": "code",
   "execution_count": 66,
   "id": "5d57212d-a045-42ad-b5b8-76a88931eef0",
   "metadata": {},
   "outputs": [],
   "source": [
    "I = np.eye(3)"
   ]
  },
  {
   "cell_type": "code",
   "execution_count": 67,
   "id": "48670b29-d5fd-4fe3-962d-75d8227f82dc",
   "metadata": {},
   "outputs": [
    {
     "data": {
      "text/plain": [
       "array([[1. , 1. , 2. ],\n",
       "       [0. , 0.5, 1. ],\n",
       "       [0. , 2. , 1. ],\n",
       "       [2. , 1. , 0. ]])"
      ]
     },
     "execution_count": 67,
     "metadata": {},
     "output_type": "execute_result"
    }
   ],
   "source": [
    "V.dot(I)"
   ]
  },
  {
   "cell_type": "markdown",
   "id": "c19bc672-4f78-4a33-b49b-172e74b86efc",
   "metadata": {},
   "source": [
    "# Inverse"
   ]
  },
  {
   "cell_type": "code",
   "execution_count": 78,
   "id": "6f6fc134-dd65-470c-85cf-f511f90d9654",
   "metadata": {},
   "outputs": [
    {
     "data": {
      "text/plain": [
       "array([[1. , 1. , 2. ],\n",
       "       [0. , 0.5, 1. ],\n",
       "       [0. , 2. , 1. ]])"
      ]
     },
     "execution_count": 78,
     "metadata": {},
     "output_type": "execute_result"
    }
   ],
   "source": [
    "V_square = V[[0, 1, 2]] # Take the 1st, 2nd and the 3rd rows from the V matrix to get a square matrix\n",
    "V_square"
   ]
  },
  {
   "cell_type": "code",
   "execution_count": 83,
   "id": "ff778873-08c1-470e-9382-593962569aa7",
   "metadata": {},
   "outputs": [
    {
     "data": {
      "text/plain": [
       "array([[ 1.        , -2.        ,  0.        ],\n",
       "       [ 0.        , -0.66666667,  0.66666667],\n",
       "       [ 0.        ,  1.33333333, -0.33333333]])"
      ]
     },
     "execution_count": 83,
     "metadata": {},
     "output_type": "execute_result"
    }
   ],
   "source": [
    "V_square_inverse = np.linalg.inv(V_square)\n",
    "V_square_inverse"
   ]
  },
  {
   "cell_type": "code",
   "execution_count": 85,
   "id": "959f864c-08f9-46e4-9558-2d92f37a456f",
   "metadata": {},
   "outputs": [
    {
     "data": {
      "text/plain": [
       "array([[1., 0., 0.],\n",
       "       [0., 1., 0.],\n",
       "       [0., 0., 1.]])"
      ]
     },
     "execution_count": 85,
     "metadata": {},
     "output_type": "execute_result"
    }
   ],
   "source": [
    "V_square_inverse.dot(V_square) # "
   ]
  },
  {
   "cell_type": "code",
   "execution_count": null,
   "id": "f1712c8e-ce10-42db-82a0-84a1d292ebb5",
   "metadata": {},
   "outputs": [],
   "source": []
  }
 ],
 "metadata": {
  "kernelspec": {
   "display_name": "Python 3 (ipykernel)",
   "language": "python",
   "name": "python3"
  },
  "language_info": {
   "codemirror_mode": {
    "name": "ipython",
    "version": 3
   },
   "file_extension": ".py",
   "mimetype": "text/x-python",
   "name": "python",
   "nbconvert_exporter": "python",
   "pygments_lexer": "ipython3",
   "version": "3.12.1"
  }
 },
 "nbformat": 4,
 "nbformat_minor": 5
}
